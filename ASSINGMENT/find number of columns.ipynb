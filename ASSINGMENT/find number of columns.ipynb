{
 "cells": [
  {
   "cell_type": "code",
   "execution_count": 1,
   "metadata": {},
   "outputs": [],
   "source": [
    "#1.find number of columns , no of rows in text file using pyspark"
   ]
  },
  {
   "cell_type": "code",
   "execution_count": 2,
   "metadata": {},
   "outputs": [],
   "source": [
    "from pyspark import SparkContext"
   ]
  },
  {
   "cell_type": "code",
   "execution_count": 3,
   "metadata": {},
   "outputs": [],
   "source": [
    "spk=SparkContext()"
   ]
  },
  {
   "cell_type": "code",
   "execution_count": 14,
   "metadata": {},
   "outputs": [],
   "source": [
    "txt_rdd=spk.textFile(r\"C:\\Users\\MAZHER\\Desktop\\MazherPython\\Assingment\\ASTRAZEN_DIPRIVAN_ACCREDO_DISPENSE_11112020.txt\")"
   ]
  },
  {
   "cell_type": "code",
   "execution_count": 15,
   "metadata": {},
   "outputs": [
    {
     "data": {
      "text/plain": [
       "['RFRL_NO|RFRL_STRT_DT|RX_NO|ATHORIZED_REFILLS|ICD_CD|PAT_DIAGNOSIS_DT|PAT_NEW_TO_THRPY|PRIOR_THERAPY|DUR_LAST_THRPY|PRODUCT_NM|PRODUCT_STRENGTH|PRODUCT_FORM|NDC_NO|RX_TYP|FILL_NO|FILL_REMAINING|DISPENSE_DT|DISPENSED_QTY|DISPENSED_UOM|DAYS_SUPPLY|DOSE_FREQ|PRESC_NPI|PRESC_ID|PRESC_STATE_LIC_NO|PRESC_LIC_ISSUE_STATE_CD|PRESC_SPCLTY|PRESC_FST_NM|PRESC_MID_NM|PRESC_LST_NM|PRESC_SUFFIX|PRESC_ADDR_LINE1|PRESC_ADDR_LINE2|PRESC_ADDR_LINE3|PRESC_CITY|PRESC_STATE|PRESC_PSTL_ID|PRESC_PHONE|PRESC_FAX|PRMRY_PYR_BIN|PRMRY_PYR_PCN|PRMRY_PYR_GRP_NO|PRMRY_PYR_ID|PRMRY_PYR_NM|PRMRY_PYR_TYP|PRMRY_BNFT_TYP|PRMRY_PLN_NM|PRMRY_PBM_NM|PRMRY_COPAY_AMT|PRMRY_DED_AMT|PRMRY_COINSUR_RT|PRMRY_COINSUR_AMT|PRMRY_PAT_OUT_POCKET_AMT|PRMRY_PAT_OUT_POCKT_MAX_AMT|PRMRY_PA_REQ|PRMRY_PA_EXPRY_DT|SCNDRY_PYR_BIN|SCNDRY_PYR_PCN|SCNDRY_PYR_GRP_NO|SCNDRY_PYR_ID|SCNDRY_PYR_NM|SCNDRY_PYR_TYP|SCNDRY_BNFT_TYP|PRMRY_PLN_NM|SCNDRY_PBM_NM|SCNDRY_COPAY_AMT|SCNDRY_DED_AMT|SCNDRY_COINSUR_RT|SCNDRY_COINSUR_AMT|SCNDRY_PAT_OUT_POCKET_AMT|SCNDRY_PAT_OUT_POCKT_MAX_AMT|SCNDRY_PA_REQ|SCNDRY_PA_EXP_DT|SP_PAT_ID|HUB_PAT_ID|PAT_GENDER|PAT_STATE|PAT_YOB|SP_NM|SP_LOC_NM|SP_LOC_NCPDP|SP_LOC_NPI|SP_LOC_DEA',\n",
       " '733449331|10052020|23239084563|5|A84.8|44084|Y|EMLA|360|DIPRIVAN 10 VIAL IN 1 BOX > 10 ML IN 1 VIAL|10 MG/ML|INJECTION|63323026910|N|1|4|10092020|1|VIAL|30|TAWK|1952368706|342908788|WILLIAM|TRIGOSO|ENDOCRINOLOGY|WILLIAM|F|TRIGOSO|MD|5107 MEDICAL DRIVE|||SAN ANTONIO|TX|78229|210-614-8612|210-615-1666|610502|MEDDAET|VEOLIA1|52255|AETNA MEDICARE-SPN|MEDICARE D|PHARMACY|AETNA|AETNA MEDICARE-SPN|250|50||200|50|1000|Y|44170||||||||||||||50|1000|||1230229|8263393|M|NY|1965|ACCREDO|ACCREDO HEALTH GROUP NEW CASTLE|844818|1538281837|FA53061',\n",
       " '733449331|10052020|5|A84.8|44084|Y|EMLA|360|DIPRIVAN 10 VIAL IN 1 BOX > 10 ML IN 1 VIAL|10 MG/ML|INJECTION|63323026910|N|1|4|10092020|1|VIAL|30|TAWK|1952368706|342908788|WILLIAM|TRIGOSO|ENDOCRINOLOGY|WILLIAM|F|TRIGOSO|MD|5107 MEDICAL DRIVE|||SAN ANTONIO|TX|78229|210-614-8612|210-615-1666|610502|MEDDAET|VEOLIA1|52255|AETNA MEDICARE-SPN|MEDICARE D|PHARMACY|AETNA|AETNA MEDICARE-SPN|250|50||200|50|1000|Y|44170||||||||||||||50|1000|||1230229|8263393|M|NY|1965|ACCREDO|ACCREDO HEALTH GROUP NEW CASTLE|844818|1538281837|FA53061']"
      ]
     },
     "execution_count": 15,
     "metadata": {},
     "output_type": "execute_result"
    }
   ],
   "source": [
    "txt_rdd.collect()"
   ]
  },
  {
   "cell_type": "code",
   "execution_count": 16,
   "metadata": {},
   "outputs": [
    {
     "data": {
      "text/plain": [
       "3"
      ]
     },
     "execution_count": 16,
     "metadata": {},
     "output_type": "execute_result"
    }
   ],
   "source": [
    "txt_rdd.count()"
   ]
  },
  {
   "cell_type": "code",
   "execution_count": 23,
   "metadata": {},
   "outputs": [
    {
     "data": {
      "text/plain": [
       "2"
      ]
     },
     "execution_count": 23,
     "metadata": {},
     "output_type": "execute_result"
    }
   ],
   "source": [
    "txt_rdd.getNumPartitions()"
   ]
  },
  {
   "cell_type": "code",
   "execution_count": null,
   "metadata": {},
   "outputs": [],
   "source": []
  },
  {
   "cell_type": "code",
   "execution_count": null,
   "metadata": {},
   "outputs": [],
   "source": []
  }
 ],
 "metadata": {
  "kernelspec": {
   "display_name": "Python 3",
   "language": "python",
   "name": "python3"
  },
  "language_info": {
   "codemirror_mode": {
    "name": "ipython",
    "version": 3
   },
   "file_extension": ".py",
   "mimetype": "text/x-python",
   "name": "python",
   "nbconvert_exporter": "python",
   "pygments_lexer": "ipython3",
   "version": "3.7.3"
  }
 },
 "nbformat": 4,
 "nbformat_minor": 4
}
