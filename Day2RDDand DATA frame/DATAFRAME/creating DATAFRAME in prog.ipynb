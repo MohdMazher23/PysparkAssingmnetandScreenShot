{
 "cells": [
  {
   "cell_type": "markdown",
   "metadata": {},
   "source": [
    "# creating DATAFRAME  PART 1\n",
    "\n",
    "import pyspark\n",
    "from pyspark.sql import SparkSession\n",
    "from pyspark.sql.types import StructType,StructField, StringType, IntegerType\n",
    "spk = SparkSession.builder\\\n",
    ".master(\"local[1]\")\\\n",
    ".appName(\"WithColumnApp\")\\\n",
    ".getOrCreate()\n"
   ]
  },
  {
   "cell_type": "code",
   "execution_count": 2,
   "metadata": {},
   "outputs": [],
   "source": [
    "dataDF = [(('James','','Smith'),'1991-04-01','M',3000),\n",
    "(('Michael','Rose',''),'2000-05-19','M',4000),\n",
    "(('Robert','','Williams'),'1978-09-05','M',4000),\n",
    "(('Maria','Anne','Jones'),'1967-12-01','F',4000),\n",
    "(('Jen','Mary','Brown'),'1980-02-17','F',-1)\n",
    "]\n"
   ]
  },
  {
   "cell_type": "code",
   "execution_count": 3,
   "metadata": {},
   "outputs": [],
   "source": [
    "schema = StructType([\n",
    "StructField('name', StructType([\n",
    "StructField('firstname', StringType(), True),\n",
    "StructField('middlename', StringType(), True),\n",
    "StructField('lastname', StringType(), True)\n",
    "])),\n",
    "StructField('dob', StringType(), True),\n",
    "StructField('gender', StringType(), True),\n",
    "StructField('amount', IntegerType(), True)\n",
    "])\n"
   ]
  },
  {
   "cell_type": "markdown",
   "metadata": {},
   "source": [
    "# creating DATAFRAME  PART 1"
   ]
  },
  {
   "cell_type": "code",
   "execution_count": 5,
   "metadata": {},
   "outputs": [
    {
     "name": "stdout",
     "output_type": "stream",
     "text": [
      "root\n",
      " |-- name: struct (nullable = true)\n",
      " |    |-- firstname: string (nullable = true)\n",
      " |    |-- middlename: string (nullable = true)\n",
      " |    |-- lastname: string (nullable = true)\n",
      " |-- dob: string (nullable = true)\n",
      " |-- gender: string (nullable = true)\n",
      " |-- amount: integer (nullable = true)\n",
      "\n",
      "+--------------------+----------+------+------+\n",
      "|                name|       dob|gender|amount|\n",
      "+--------------------+----------+------+------+\n",
      "|    [James, , Smith]|1991-04-01|     M|  3000|\n",
      "|   [Michael, Rose, ]|2000-05-19|     M|  4000|\n",
      "|[Robert, , Williams]|1978-09-05|     M|  4000|\n",
      "|[Maria, Anne, Jones]|1967-12-01|     F|  4000|\n",
      "|  [Jen, Mary, Brown]|1980-02-17|     F|    -1|\n",
      "+--------------------+----------+------+------+\n",
      "\n"
     ]
    }
   ],
   "source": [
    "df = spk.createDataFrame(data = dataDF, schema = schema)\n",
    "df.printSchema()\n",
    "df.show()"
   ]
  },
  {
   "cell_type": "code",
   "execution_count": null,
   "metadata": {},
   "outputs": [],
   "source": []
  }
 ],
 "metadata": {
  "kernelspec": {
   "display_name": "Python 3",
   "language": "python",
   "name": "python3"
  },
  "language_info": {
   "codemirror_mode": {
    "name": "ipython",
    "version": 3
   },
   "file_extension": ".py",
   "mimetype": "text/x-python",
   "name": "python",
   "nbconvert_exporter": "python",
   "pygments_lexer": "ipython3",
   "version": "3.7.3"
  }
 },
 "nbformat": 4,
 "nbformat_minor": 4
}
